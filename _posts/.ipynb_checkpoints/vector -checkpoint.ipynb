{
 "cells": [
  {
   "cell_type": "markdown",
   "metadata": {},
   "source": [
    "## 벡터(Vector) \n",
    "우리들이 일상적으로 사용하는 물리적인 양 중에는 길이, 넓이, 질량, 온도 와 같이 그 양의 크기만 주어지면 완전히 표시되는 스칼라(scalar)와 힘, 속도, 위치 이동과 같이 크기뿐만 아니라 방향까지 지정하지 않으면 완전히 표현할 수 없는 벡터(vector)가 있다.\n",
    "\n",
    "좌표평면 $R^2$={($x_1$,$x_2$)|$x_1$,$x_2$ $\\in$ R}에서 원점을 시작점으로 하는 모든 벡터는 끝점에 의해 크기와 방향이 결정된다. 그런데 벡터는 크기와 방향이 같으면 시작점에 관계없이 항상 동일 한 벡터로 간주하므로 (앞으로 원점을 항상 시작점으로 생각하기로 약속하면) 모든 벡터는 점 의 좌표를 이용하여 나타낼 수 있다.\n",
    " "
   ]
  },
  {
   "cell_type": "code",
   "execution_count": null,
   "metadata": {
    "collapsed": true
   },
   "outputs": [],
   "source": []
  },
  {
   "cell_type": "code",
   "execution_count": null,
   "metadata": {
    "collapsed": true
   },
   "outputs": [],
   "source": [
    "import numpy as np\n",
    "import numpy.linalg as lin\n",
    "import matplotlib.pyplot as plt\n",
    "\n",
    "x=np.array([[1,2,3],[4,5,6]])\n",
    "y=np.array([[1,0,-1],[1,1,0]])\n",
    "\n",
    "exlnv=np.dot(x,y.T)\n",
    "lin.inv(exlnv)\n",
    "\n",
    "lin.qr(exlnv)\n",
    "\n",
    "\n",
    "xLstsq=np.array([0,1,2,3])\n",
    "yLstsq=np.array([-1,0.2,0.9,2.1])\n",
    "plt.plot(xLstsq,yLstsq)\n",
    "plt.grid(True)\n",
    "plt.show()\n",
    "\n",
    "x.T\n",
    "\n",
    "plt.plot(xLstsq, yLstsq, 'o',label='Original Data')"
   ]
  }
 ],
 "metadata": {
  "anaconda-cloud": {},
  "kernelspec": {
   "display_name": "Python [conda root]",
   "language": "python",
   "name": "conda-root-py"
  },
  "language_info": {
   "codemirror_mode": {
    "name": "ipython",
    "version": 3
   },
   "file_extension": ".py",
   "mimetype": "text/x-python",
   "name": "python",
   "nbconvert_exporter": "python",
   "pygments_lexer": "ipython3",
   "version": "3.5.2"
  }
 },
 "nbformat": 4,
 "nbformat_minor": 1
}
