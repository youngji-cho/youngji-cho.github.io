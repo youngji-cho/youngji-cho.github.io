{
 "cells": [
  {
   "cell_type": "raw",
   "metadata": {},
   "source": [
    "---\n",
    "title: \"최대 가능도 추정\"\n",
    "author: \"youngji\"\n",
    "date: '2017-04-22'\n",
    "---"
   ]
  },
  {
   "cell_type": "markdown",
   "metadata": {},
   "source": [
    "최대우도추정(MLE, Maximum Likelihood Estimation) 방법은 확률모형의 모수추정에서 가장 일반적으로 사용되는 방법이다. \n",
    "\n",
    "확률변수 X 에 대한 확률모형은 확률밀도함수 $f_X$에 의해 정의된다. 확률밀도함수는 일반적으로 확률밀도함수 $f_{x}$에 의해 정의된다. 확률밀도함수는 일반적으로 $f_{X}(x;\\theta)$는 확률 밀도함수, 즉 확률모형의 모수 집함을 대표하는 기호이다. \n",
    "\n",
    "그러나 샘플값은 알고 있지만, 모수 $\\theta$는 전혀 모르고 있다고 가정해보자, 이 경우 , 샘플값 x에서 모수 $\\theta$를 찾아야 하는 경우가 있는데, 이것이 가능도(Likelihood)이다. \n",
    "\n",
    "$$ \\mathcal{L}(\\theta;x) = f_X(x \\vert \\theta) $$ \n",
    "\n",
    "* 확률밀도함수의 변수가 모수 $\\theta$ 이다. \n",
    "* 확륣밀도함수에서 샘플 x가 발생했을때, 이 샘플 값 x가 나오게 하는 파라미터 $\\theta$의 가능성 \n",
    "* x가 이미 정해져 있는 상황에서 $\\theta$ 값의 상대적가능성이다. "
   ]
  },
  {
   "cell_type": "markdown",
   "metadata": {},
   "source": [
    "## 최대가능도의 사례 \n",
    "\n",
    "최대우도추정에서는 샘플 x에 대해 우도를 가장 크게 해주느 모수 $\\theta$를 찾는 방법이다. 예를 들어 확률변수의 분산 $\\sigma^2=1$은 알고 있으나, 평균 $\\mu$를 모르고 있어 이를 추정해야 하는 문제를 생각해보자. \n",
    "\n",
    "이때 이대 확률변수 $x_0=1$를 가지고 있다. $X_0$값에서 어떤 $\\mu$값이 가장 가능성이 있어보인는가? 로그가능도 함수를 통해서 최대 가능도를 계산하낟. \n",
    "\n",
    "또한 우도를 직접 사용하는 것이 아니라 우도를 로그변환한 로그 우도(Log likelihood)함수  를 사용한다. \n",
    "$$\\hat\\theta_{\\text{MLE}} = \\arg \\max_{\\theta} L(\\theta; \\{x_i\\})$$\n",
    "샘플의 수가 복수인 경우 결합 확률 밀도 함수 즉 우도 함수가 동일한 함수의 곱으로 나타나는 경우가 많은데 이 때 로그 변환에 의해 곱셈이 덧셈으로 변하여 계산이 용이해지기 때문이다.\n"
   ]
  },
  {
   "cell_type": "code",
   "execution_count": 25,
   "metadata": {
    "scrolled": false
   },
   "outputs": [
    {
     "data": {
      "image/png": "[encoded data removed]",
      "text/plain": [
       "<matplotlib.figure.Figure at 0x1108de5f8>"
      ]
     },
     "metadata": {},
     "output_type": "display_data"
    }
   ],
   "source": [
    "import numpy as np \n",
    "import scipy.stats as st \n",
    "import matplotlib.pyplot as plt \n",
    "\n",
    "x = np.linspace(-5, 5, 100)\n",
    "plt.plot(x, st.norm(loc=0).pdf(x)) \n",
    "plt.plot(x, st.norm(loc=1).pdf(x)) \n",
    "plt.plot(x, st.norm(loc=-1).pdf(x))\n",
    "plt.scatter(1, st.norm(loc=-1).pdf(1), s=100, c='g')\n",
    "plt.scatter(1, st.norm(loc=0).pdf(1), s=100, c='b')\n",
    "plt.scatter(1, st.norm(loc=1).pdf(1), s=100, c='r')\n",
    "plt.vlines(1, -0.05, 0.45, linestyle=\":\")\n",
    "plt.show()"
   ]
  },
  {
   "cell_type": "markdown",
   "metadata": {},
   "source": [
    "## 로그가능도 함수를 활용한 모수 추정 \n",
    "\n",
    "가능도 함수의 계산을 위해서, 함수에 로그를 씌워서 계산을 하기도 하는데 이를 '로그가능도함수' 라고 한다. 최대가능도의 모수 $\\theta$는 로그가능도 함수를 통하여 아래와 같이 산출된다.  \n",
    "\n",
    "$$ \\mathcal{L}(\\theta;x) = \\prod_{i=1}^n Pr(x_i|\\theta) $$\n",
    "$$ ln\\mathcal{L}(\\theta) = lnPr(x_1|\\theta)+\\cdots lnPr(x_n|\\theta)$$\n",
    "\n",
    "이러한 로그 가능도 함수를 구한다음에, 편미분을 해서 모수를 찾아낸다. 구체적인 함수의 도출은 확률분포에 따라 다르므로, 확률분포에 따라 살펴보겠다. "
   ]
  },
  {
   "cell_type": "markdown",
   "metadata": {},
   "source": [
    "### 이항분포\n",
    "\n",
    "실제로 해본 이항분포 실험 $x_1 \\cdots x_n$ 에서 모수 $\\theta$를 추정해보자.\n",
    "\n",
    "$$ \\mathcal{L}(\\theta;x_{1:n})= \\prod_{i=1}^n \\theta^{x_i}(1-\\theta)^{1-x_i} $$\n",
    "\n",
    "로그가능도 함수를 구하면, \n",
    "\n",
    "$$ log \\mathcal{L}(\\theta)= \\sum_{i=1}^n x_ilog\\theta + \\sum_{i=1}^n x_ilog(1-\\theta)  $$ \n",
    "\n",
    "이항분포이니까, 샘플 x는 성공(1) 아니면, 실패(0)이다. 전체 시도횟수를 N으로 두고 성공한 횟수를 S로 두겠다. \n",
    "\n",
    "$$ log \\mathcal{L}(\\theta)= log\\theta + (N-S)log(1-\\theta)  \\\\\n",
    "= \\frac{\\partial \\log L}{\\partial \\theta}= \\frac{\\partial} {\\partial\\theta}Nlog(\\theta){(N-s) \\log(1 - \\theta)} \\\\\n",
    "= \\frac{S}{N} $$"
   ]
  },
  {
   "cell_type": "code",
   "execution_count": 10,
   "metadata": {},
   "outputs": [
    {
     "data": {
      "text/plain": [
       "0.38"
      ]
     },
     "execution_count": 10,
     "metadata": {},
     "output_type": "execute_result"
    }
   ],
   "source": [
    "import scipy.stats as st \n",
    "import numpy as np \n",
    "sample=st.bernoulli(0.4).rvs(1000)\n",
    "N,S=np.bincount(sample)\n",
    "S/(N+S)"
   ]
  },
  {
   "cell_type": "markdown",
   "metadata": {},
   "source": [
    "### 범주형 데이터의 모수 추정 \n",
    "\n",
    "\n",
    "\n",
    "\n",
    "\n"
   ]
  },
  {
   "cell_type": "code",
   "execution_count": null,
   "metadata": {
    "collapsed": true
   },
   "outputs": [],
   "source": []
  },
  {
   "cell_type": "markdown",
   "metadata": {},
   "source": [
    "### 정규분포의 모수 추정 \n",
    "가우스 정규분포에서는  평균과 분산을 모두 찾아야 함므로 두번 편미분을 해야 한다. \n",
    "\n",
    "\n",
    "\n",
    "\n"
   ]
  },
  {
   "cell_type": "code",
   "execution_count": null,
   "metadata": {
    "collapsed": true
   },
   "outputs": [],
   "source": []
  }
 ],
 "metadata": {
  "hide_input": false,
  "kernelspec": {
   "display_name": "Python 3",
   "language": "python",
   "name": "python3"
  },
  "language_info": {
   "codemirror_mode": {
    "name": "ipython",
    "version": 3
   },
   "file_extension": ".py",
   "mimetype": "text/x-python",
   "name": "python",
   "nbconvert_exporter": "python",
   "pygments_lexer": "ipython3",
   "version": "3.6.0"
  }
 },
 "nbformat": 4,
 "nbformat_minor": 2
}
