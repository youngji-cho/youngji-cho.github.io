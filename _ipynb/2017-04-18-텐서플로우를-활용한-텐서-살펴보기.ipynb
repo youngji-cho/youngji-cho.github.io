{
 "cells": [
  {
   "cell_type": "raw",
   "metadata": {},
   "source": [
    "---\n",
    "title: \"텐서플로우를 활용한 텐서 살펴보기\"\n",
    "author: \"youngji\"\n",
    "date: '2017-04-18' \n",
    "---"
   ]
  },
  {
   "cell_type": "markdown",
   "metadata": {},
   "source": [
    "텐서는 \"행렬과 벡터을 3차원 이상으로 일반화 시킨 개념\"이라고 정의한다.([임성빈님의 정의](https://www.slideshare.net/ssuser7e10e4/linear-algrbra))\n",
    "\n",
    "- 0차 텐서: 스칼라(scalar) s=100\n",
    "- 1차 텐서: 벡터(Vector) v=[1,1,1,1,1]\n",
    "- 2차 텐서: 행렬(Matrix) m=[[1,2],[1,2]]\n",
    "- 3차 텐서: 3차 부터는 \"n차 텐서\"로 명명을 한다. t=[[[1,2,3],[1,2,3]],[[1,2,3],[1,2,3]]] \n",
    "\n",
    "서로 다른 2개의 텐서 V와 W의 곱인 $V\\otimes W$는 2개의 차원의 곱으로 나타낼수 있다. \n",
    "\n",
    "$$ \\dim(V\\otimes W) = \\dim V \\dim W $$\n",
    "\n",
    "\n",
    "$$ a \\otimes b =\n",
    "  \\begin{bmatrix}\n",
    "    a_{1,1} & a_{1,2} \\\\\n",
    "    a_{2,1} & a_{2,2} \\\\\n",
    "  \\end{bmatrix}\n",
    "\\otimes\n",
    "  \\begin{bmatrix}\n",
    "    b_{1,1} & b_{1,2} \\\\\n",
    "    b_{2,1} & b_{2,2} \\\\\n",
    "  \\end{bmatrix}\n",
    "=\n",
    "  \\begin{bmatrix}\n",
    "    a_{1,1}  \\begin{bmatrix}\n",
    "              b_{1,1} & b_{1,2} \\\\\n",
    "              b_{2,1} & b_{2,2} \\\\\n",
    "            \\end{bmatrix} & a_{1,2}  \\begin{bmatrix}\n",
    "                                      b_{1,1} & b_{1,2} \\\\\n",
    "                                      b_{2,1} & b_{2,2} \\\\\n",
    "                                    \\end{bmatrix} \\\\\n",
    "     & \\\\\n",
    "    a_{2,1}  \\begin{bmatrix}\n",
    "              b_{1,1} & b_{1,2} \\\\\n",
    "              b_{2,1} & b_{2,2} \\\\\n",
    "            \\end{bmatrix} & a_{2,2}  \\begin{bmatrix}\n",
    "                                      b_{1,1} & b_{1,2} \\\\\n",
    "                                      b_{2,1} & b_{2,2} \\\\\n",
    "                                    \\end{bmatrix} \\\\\n",
    "  \\end{bmatrix}\n",
    "=\n",
    "  \\begin{bmatrix}\n",
    "    a_{1,1} b_{1,1} & a_{1,1} b_{1,2} & a_{1,2} b_{1,1} & a_{1,2} b_{1,2} \\\\\n",
    "    a_{1,1} b_{2,1} & a_{1,1} b_{2,2} & a_{1,2} b_{2,1} & a_{1,2} b_{2,2} \\\\\n",
    "    a_{2,1} b_{1,1} & a_{2,1} b_{1,2} & a_{2,2} b_{1,1} & a_{2,2} b_{1,2} \\\\\n",
    "    a_{2,1} b_{2,1} & a_{2,1} b_{2,2} & a_{2,2} b_{2,1} & a_{2,2} b_{2,2} \\\\\n",
    "  \\end{bmatrix}. $$ "
   ]
  },
  {
   "cell_type": "code",
   "execution_count": 29,
   "metadata": {},
   "outputs": [
    {
     "data": {
      "text/plain": [
       "array([[[[ 4,  5],\n",
       "         [ 4,  5]],\n",
       "\n",
       "        [[ 8, 10],\n",
       "         [ 8, 10]]],\n",
       "\n",
       "\n",
       "       [[[12, 15],\n",
       "         [12, 15]],\n",
       "\n",
       "        [[16, 20],\n",
       "         [16, 20]]]])"
      ]
     },
     "execution_count": 29,
     "metadata": {},
     "output_type": "execute_result"
    }
   ],
   "source": [
    "import numpy as np \n",
    "a=np.array([[1,2],[3,4]])\n",
    "b=np.array([[4,5],[4,5]])\n",
    "np.tensordot(a,b,axes=0)"
   ]
  },
  {
   "cell_type": "markdown",
   "metadata": {},
   "source": [
    "## 텐서플로우(Tensorflow )\n",
    "\n",
    "텐서플로우는 구글에서 기계학습을 위해 만들어낸 개발한 파이썬 기반 라이브러리이다. 텐서플로우 라이브러리는 노드(Node)와 엣지(Edge)를 활용한 데이터 그래프이다. \n",
    "\n",
    "- 노드: 수학계산 및 데이터 \n",
    "- 엣지: 노드(Node)간의 입출력 관계를 나타낸다. \n",
    "\n",
    "데이터 그래프의 입출력(엣지)에서 다차원 배열, 즉 텐서가 쓰인다. 그래서 \"TensorFlow\"라는 이름으로 명명되었다. 수학적 개념인 텐서와 텐서플로우는 다른 개념이다. 본글에서는 텐서플로우 패키지를 이용해서 텐서의 다양한 개념을 살펴보겠다. "
   ]
  },
  {
   "cell_type": "code",
   "execution_count": 30,
   "metadata": {},
   "outputs": [
    {
     "data": {
      "text/plain": [
       "array([[12, 15],\n",
       "       [28, 35]], dtype=int32)"
      ]
     },
     "execution_count": 30,
     "metadata": {},
     "output_type": "execute_result"
    }
   ],
   "source": [
    "import tensorflow as tf\n",
    "\n",
    "a= tf.constant([[1,2],[3,4]])\n",
    "b= tf.constant([[4,5],[4,5]])\n",
    "x= tf.matmul(a,b)\n",
    "\n",
    "sess=tf.Session()\n",
    "sess.run(x)"
   ]
  },
  {
   "cell_type": "markdown",
   "metadata": {},
   "source": [
    "## 인공신경망과 텐서 "
   ]
  },
  {
   "cell_type": "code",
   "execution_count": 31,
   "metadata": {},
   "outputs": [
    {
     "name": "stderr",
     "output_type": "stream",
     "text": [
      "Using TensorFlow backend.\n"
     ]
    }
   ],
   "source": [
    "from keras.models import Sequential\n",
    "from keras.layers import Dense, Activation"
   ]
  },
  {
   "cell_type": "code",
   "execution_count": null,
   "metadata": {
    "collapsed": true
   },
   "outputs": [],
   "source": [
    "model = Sequential([\n",
    "    Dense(32, input_shape=(784,)),\n",
    "    Activation('relu'),\n",
    "    Dense(10),\n",
    "    Activation('softmax'),\n",
    "])"
   ]
  }
 ],
 "metadata": {
  "hide_input": false,
  "kernelspec": {
   "display_name": "Python 3",
   "language": "python",
   "name": "python3"
  },
  "language_info": {
   "codemirror_mode": {
    "name": "ipython",
    "version": 3
   },
   "file_extension": ".py",
   "mimetype": "text/x-python",
   "name": "python",
   "nbconvert_exporter": "python",
   "pygments_lexer": "ipython3",
   "version": "3.6.0"
  }
 },
 "nbformat": 4,
 "nbformat_minor": 2
}
