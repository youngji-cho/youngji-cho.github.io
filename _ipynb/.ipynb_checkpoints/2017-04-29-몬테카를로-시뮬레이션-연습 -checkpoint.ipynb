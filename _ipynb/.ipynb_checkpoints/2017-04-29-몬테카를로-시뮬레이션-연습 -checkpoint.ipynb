{
 "cells": [
  {
   "cell_type": "raw",
   "metadata": {},
   "source": [
    "---\n",
    "title: \"몬테카를로 시뮬레이션 연습\"\n",
    "author: \"youngji\"\n",
    "date: '2017-04-29'\n",
    "---\n"
   ]
  },
  {
   "cell_type": "markdown",
   "metadata": {},
   "source": [
    "몬테카를로 시뮬레이션은 다양한 결과를 실험하기 위해서 존재한다. 특히 투자시 모든 리스크의 가능성을 파악하기 위해서 존재한다. 단순히 \"선택을 해야 할까? 하지 말아야 할까?\" 의 의사결정이 아니라, 의사결정을 함으로써 도출될 수 있는 다양한 결과들에 대해서 예상을 한다. 원리는 매우 간단하다. 확률 모형을 만들고 그 모형마다 다양한 확률변수를 넣으면서 위험을 예측하는 \n",
    "\n"
   ]
  },
  {
   "cell_type": "code",
   "execution_count": 14,
   "metadata": {
    "collapsed": true,
    "hide_input": true
   },
   "outputs": [],
   "source": []
  }
 ],
 "metadata": {
  "hide_input": false,
  "kernelspec": {
   "display_name": "Python 3",
   "language": "python",
   "name": "python3"
  },
  "language_info": {
   "codemirror_mode": {
    "name": "ipython",
    "version": 3
   },
   "file_extension": ".py",
   "mimetype": "text/x-python",
   "name": "python",
   "nbconvert_exporter": "python",
   "pygments_lexer": "ipython3",
   "version": "3.6.0"
  }
 },
 "nbformat": 4,
 "nbformat_minor": 2
}
