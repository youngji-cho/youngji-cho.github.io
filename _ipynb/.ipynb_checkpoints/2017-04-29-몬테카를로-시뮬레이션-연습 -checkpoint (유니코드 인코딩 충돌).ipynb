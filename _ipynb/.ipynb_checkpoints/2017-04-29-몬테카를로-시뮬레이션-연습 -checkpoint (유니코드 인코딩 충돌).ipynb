{
 "cells": [
  {
   "cell_type": "markdown",
   "metadata": {},
   "source": [
    "몬테카를로 시뮬레이션은 다양한 결과를 실험하기 위해서 존재한다. 특히 투자시 모든 리스크의 가능성을 파악하기 위해서 존재한다. \n",
    "단순히 선택을 해야 할까? 하지 말아야 할까?의 의사결정이 아니라, 의사결정을 함으로써 도출될 수 있는 다양한 결과들에 대해서 예상을 한다. \n",
    "특히 독립된 사건에서 현재 확률이 다음 사건 확률의 영향을 미칠 것이라는 \n"
   ]
  },
  {
   "cell_type": "code",
   "execution_count": 56,
   "metadata": {},
   "outputs": [],
   "source": [
    "import random \n",
    "import matplotlib\n",
    "import matplotlib.pyplot as plt \n",
    "\n",
    "def rollDice():\n",
    "    roll = random.randint(1,100)\n",
    "    if roll ==100:\n",
    "        #print (roll,',roll was 100,you lose.')\n",
    "        return False \n",
    "    elif roll <=50: \n",
    "        #print (roll,',roll was 1-50, you lose')\n",
    "        return False \n",
    "    elif 100>roll >=50: \n",
    "        #print (roll,',roll was 51-99 you win')\n",
    "        return True\n",
    "    \n",
    "def doubler_bettor(funds,initial_wager,wager_count):\n",
    "    value = funds  \n",
    "    wager = initial_wager\n",
    "    \n",
    "    currentWager =1\n",
    "    # wager X \n",
    "    wX = []\n",
    "    vY = [] \n",
    "    \n",
    "    while currentWager< wager_count:\n",
    "        if rollDice():\n",
    "            value += wager \n",
    "            # append # \n",
    "            wX.append(currentWager)\n",
    "            vY.append(value)\n",
    "        else:\n",
    "            value -= wager \n",
    "            wX.append(currentWager)\n",
    "            vY.append(value)\n",
    "        currentWager +=1 \n",
    "        \n",
    "    plt.plot(wX,vY)\n",
    "    \n",
    "    \n",
    "def double_bettor(funds,initial_wager,wager_count):\n",
    "    value = funds  \n",
    "    wager = initial_wager\n",
    "    currentWager =1\n",
    "    wX = []\n",
    "    vY = []\n",
    "    \n",
    "    previousWager='win'\n",
    "    previousWagerAmount=initial_wager \n",
    "    \n",
    "    while courrentWager <= wager_count:\n",
    "        if previousWager=='win':\n",
    "            if rollDice():\n",
    "                value += wager \n",
    "                # append # \n",
    "                wX.append(currentWager)\n",
    "                vY.append(value)\n",
    "            else:\n",
    "                value -= wager \n",
    "                previousWager = 'loss'\n",
    "                previousWagerAmount=wager \n",
    "                wX.append(currentWager)\n",
    "                vY.append(value) \n",
    "                if value < 0:\n",
    "                    currentWager += 10000000000000000\n",
    "        elif previousWager=='loss':\n",
    "            if rollDice():\n",
    "                wager = previousWagerAmount * 2\n",
    "                value += wager\n",
    "                wager = initial_wager\n",
    "                previousWager = 'win'\n",
    "                wX.append(currentWager)\n",
    "                vY.append(value)\n",
    "            else:\n",
    "                wager = previousWagerAmount * 2\n",
    "                value -= wager\n",
    "                if value < 0:\n",
    "                    currentWager += 10000000000000000\n",
    "                previousWager = 'loss'\n",
    "                previousWagerAmount = wager\n",
    "                wX.append(currentWager)\n",
    "                vY.append(value)\n",
    "                if value < 0:\n",
    "                    currentWager += 10000000000000000 \n",
    "        currentWager += 1\n",
    "    plt.plot(wX,vY)"
   ]
  },
  {
   "cell_type": "code",
   "execution_count": 57,
   "metadata": {},
   "outputs": [
    {
     "ename": "NameError",
     "evalue": "name 'doubler_bettor' is not defined",
     "output_type": "error",
     "traceback": [
      "\u001b[0;31m---------------------------------------------------------------------------\u001b[0m",
      "\u001b[0;31mNameError\u001b[0m                                 Traceback (most recent call last)",
      "\u001b[0;32m<ipython-input-57-9eb7752712b7>\u001b[0m in \u001b[0;36m<module>\u001b[0;34m()\u001b[0m\n\u001b[0;32m----> 1\u001b[0;31m \u001b[0mdoubler_bettor\u001b[0m\u001b[0;34m(\u001b[0m\u001b[0;36m10000\u001b[0m\u001b[0;34m,\u001b[0m\u001b[0;36m100\u001b[0m\u001b[0;34m,\u001b[0m\u001b[0;36m100\u001b[0m\u001b[0;34m)\u001b[0m\u001b[0;34m\u001b[0m\u001b[0m\n\u001b[0m\u001b[1;32m      2\u001b[0m \u001b[0mplt\u001b[0m\u001b[0;34m.\u001b[0m\u001b[0mshow\u001b[0m\u001b[0;34m(\u001b[0m\u001b[0;34m)\u001b[0m\u001b[0;34m\u001b[0m\u001b[0m\n\u001b[1;32m      3\u001b[0m \u001b[0mtime\u001b[0m\u001b[0;34m.\u001b[0m\u001b[0msleep\u001b[0m\u001b[0;34m(\u001b[0m\u001b[0;36m555\u001b[0m\u001b[0;34m)\u001b[0m\u001b[0;34m\u001b[0m\u001b[0m\n",
      "\u001b[0;31mNameError\u001b[0m: name 'doubler_bettor' is not defined"
     ]
    }
   ],
   "source": [
    "doubler_bettor(10000,100,100)\n",
    "plt.show()\n",
    "time.sleep(555)"
   ]
  },
  {
   "cell_type": "code",
   "execution_count": null,
   "metadata": {
    "collapsed": true
   },
   "outputs": [],
   "source": []
  }
 ],
 "metadata": {
  "hide_input": false,
  "kernelspec": {
   "display_name": "Python 3",
   "language": "python",
   "name": "python3"
  },
  "language_info": {
   "codemirror_mode": {
    "name": "ipython",
    "version": 3
   },
   "file_extension": ".py",
   "mimetype": "text/x-python",
   "name": "python",
   "nbconvert_exporter": "python",
   "pygments_lexer": "ipython3",
   "version": "3.6.0"
  }
 },
 "nbformat": 4,
 "nbformat_minor": 2
}
