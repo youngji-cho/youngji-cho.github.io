{
 "cells": [
  {
   "cell_type": "code",
   "execution_count": 1,
   "metadata": {},
   "outputs": [
    {
     "name": "stdout",
     "output_type": "stream",
     "text": [
      "2017-04-03-벡터와-행렬.ipynb\r\n",
      "2017-04-07-LSTM을 이용한 SMP 가격 예측  .ipynb\r\n",
      "2017-04-16-RNN를-이용한-SMP가격-시계열예측.ipynb\r\n",
      "2017-04-18-텐서플로우를-활용한-텐서-살펴보기.ipynb\r\n",
      "2017-04-20-베이즈-정리의-기초.ipynb\r\n",
      "2017-04-22-최대_가능도_추정 (유니코드 인코딩 충돌).ipynb\r\n",
      "2017-04-22-최대_가능도_추정.ipynb\r\n",
      "2017-04-22-분류(classification)의 기초 .ipynb\r\n",
      "Matplotlib의 사용법 .ipynb\r\n",
      "Numpy의 기초 .ipynb\r\n",
      "Panda Dataframe.ipynb\r\n",
      "REC 가격 시계열분석 .ipynb\r\n",
      "RNN 기본 구조와 Keras를 사용한 RNN 구현.ipynb\r\n",
      "Scikit으로 KNN 예측.ipynb\r\n",
      "Skearn Package 연습.ipynb\r\n",
      "Untitled.ipynb\r\n",
      "Untitled1.ipynb\r\n",
      "Untitled2.ipynb\r\n",
      "\u001b[34m_ipynb\u001b[m\u001b[m/\r\n",
      "결합,주변,조건부 확률밀도함수 .ipynb\r\n",
      "연습.ipynb\r\n"
     ]
    }
   ],
   "source": [
    "ls "
   ]
  },
  {
   "cell_type": "code",
   "execution_count": 17,
   "metadata": {},
   "outputs": [
    {
     "name": "stdout",
     "output_type": "stream",
     "text": [
      "[NbConvertApp] Converting notebook 2017-04-20-베이즈-정리의-기초.ipynb to markdown\n",
      "[NbConvertApp] Writing 2188 bytes to 2017-04-20-베이즈-정리의-기초.md\n"
     ]
    }
   ],
   "source": [
    "! jupyter nbconvert --to markdown 2017-04-20-베이즈-정리의-기초.ipynb  "
   ]
  },
  {
   "cell_type": "code",
   "execution_count": null,
   "metadata": {
    "collapsed": true
   },
   "outputs": [],
   "source": []
  },
  {
   "cell_type": "code",
   "execution_count": null,
   "metadata": {
    "collapsed": true
   },
   "outputs": [],
   "source": []
  },
  {
   "cell_type": "code",
   "execution_count": null,
   "metadata": {
    "collapsed": true
   },
   "outputs": [],
   "source": []
  }
 ],
 "metadata": {
  "hide_input": false,
  "kernelspec": {
   "display_name": "Python 3",
   "language": "python",
   "name": "python3"
  },
  "language_info": {
   "codemirror_mode": {
    "name": "ipython",
    "version": 3
   },
   "file_extension": ".py",
   "mimetype": "text/x-python",
   "name": "python",
   "nbconvert_exporter": "python",
   "pygments_lexer": "ipython3",
   "version": "3.6.0"
  }
 },
 "nbformat": 4,
 "nbformat_minor": 2
}
