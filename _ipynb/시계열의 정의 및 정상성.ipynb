{
 "cells": [
  {
   "cell_type": "markdown",
   "metadata": {},
   "source": [
    "# 시계열의 모형의 기본  \n",
    "\n",
    "## 시계열과 확률과정 \n",
    "\n",
    "확률과정(Stochastic process)이란, 상호상관관계를 가지는 무한개의 확률변수를 의미한다. 시계열(Time series data)은 이러한 확률과정의 샘플이다. 대부분의 시계열의 경우는 '시간'이라는 특성상 확률사건이 반복적으로 발생할 수가 없다. 따라서 시계열 분석에서는 항상 \"재현성(Reproducibility)\"의 문제를 염두해두어야 한다. \n",
    "\n",
    "$$Y_t=[\\cdots, Y_{-2},Y_{-1},Y,Y_1]\\\\\n",
    "y_t=[\\cdots, y_{-2},y_{-1},y,y_1]$$\n",
    "\n",
    "일반적으로 시계열은 이산확률과정이다. 아주 특별한 경우에 연속확률과정이 다루어질때도 있다. \n",
    "\n",
    "## 자기상관계수 \n",
    "\n",
    "시계열을 흔히 '자기상관'적이라고 하는데, 이는 t시점의 결과가 이전 시점 $t-1,\\cdots, t-n$에 시계열에 영향을 받기 때문이다. 자기 상관계수는 실제로 예측을 할때, 중요한 추정치이다. 확률과정의 자기공분산(auto-covariance)를 구하고, 자기상관계수(auto-correlation)을 구할 수 있다. \n",
    "\n",
    "* 자기공분산\n",
    "$$\\gamma_{t,s} = Cov(Y_t, Y_s)$$\n",
    "* 자기상관계수\n",
    "$$\\rho_{t,s} = \\frac{Cov[Y_t, Y_s]}{\\sigma(Y_t),\\sigma(Y_s)}  = \\frac{\\gamma_{t,s}}{\\gamma_{t},\\gamma_{s}}$$"
   ]
  },
  {
   "cell_type": "markdown",
   "metadata": {},
   "source": [
    "## 시계열의 안정성 \n",
    "시계열 분석에서는 데이터의 정상(stationary)성을 가정하고 데이터분석을 한다. 그러므로 안정성의 정의가 매우 중요한데, 쉽게 말하자면 \"가만히 있다, 일정하다\"라는 뜻이다. 조금 더 엄밀히 설명하면 안정성이라는 것은 분포가 변화하지 않는것이다. 시계열에서는 안정성을 강하게(strict), 혹은 약하게(weak) 정의할 수 있다. \n",
    "\n",
    "* 강한 안정성: 절대적 시간에 성과 없이 공분산이 일정하다. \n",
    "  $$\\gamma(Y_{t},Y_{t+1},Y_{t+2} \\cdots)=\\gamma(Y_{t},Y_{t+1},Y_{t+2} \\cdots) $$ \n",
    "* 약한 안정성:  cov(at,at+h) “h”만 정해지면 공분산은 일정하다.\n",
    "  $$ \\gamma(Y_{t},Y_{t+h})=\\gamma(Y_{t+h},Y_{t+2h})$$\n",
    "\n",
    "안정성의 범위에서 벗어난 시계열은 여러가지 종류가 있을수 있지만, 대표적으로는 아래와 같다. \n",
    "* $E[y_t,y_{t+h}$] 이 0이 아니며 시간에 따라 변화함(트렌드가 있음)\n",
    "* 추세가 없지만 $Var[y_t,y_{t+h}]$이 시간에 따라 변하는 경우"
   ]
  },
  {
   "cell_type": "markdown",
   "metadata": {},
   "source": [
    "## 백색잡음\n",
    "백색잡음은 말그대로 시계열 과정중에 발생하는 '잡음'이다. 이러한 잡음을 체계적으로 분석해서 하나의 확률모형화를 해두는 것이 중요하다. 우선 백색잡음은 분석 중 생기는 모형 밖의 잡음이므로 시계열 모형에서는 *i.i.d*(independent,identically,distributed) 모형을 가정한다. 또한 *i.i.d*모형인 만큼 공분산은 \n"
   ]
  },
  {
   "cell_type": "code",
   "execution_count": null,
   "metadata": {
    "collapsed": true
   },
   "outputs": [],
   "source": []
  }
 ],
 "metadata": {
  "hide_input": false,
  "kernelspec": {
   "display_name": "Python 3",
   "language": "python",
   "name": "python3"
  },
  "language_info": {
   "codemirror_mode": {
    "name": "ipython",
    "version": 3
   },
   "file_extension": ".py",
   "mimetype": "text/x-python",
   "name": "python",
   "nbconvert_exporter": "python",
   "pygments_lexer": "ipython3",
   "version": "3.6.0"
  }
 },
 "nbformat": 4,
 "nbformat_minor": 2
}
