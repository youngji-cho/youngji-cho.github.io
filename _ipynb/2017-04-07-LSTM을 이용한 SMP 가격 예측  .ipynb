{
 "cells": [
  {
   "cell_type": "raw",
   "metadata": {},
   "source": [
    "---\n",
    "title: \"LSTM을 이용한 SMP 가격예측\"\n",
    "author: \"youngji\"\n",
    "date: '2017-04-17'\n",
    "---"
   ]
  },
  {
   "cell_type": "code",
   "execution_count": 2,
   "metadata": {
    "collapsed": true,
    "scrolled": false
   },
   "outputs": [],
   "source": [
    "import pandas as pd\n",
    "import os \n",
    "import matplotlib.pyplot as plt \n",
    "os.chdir(\"/Users/youngji/Dropbox/data\")\n",
    "smp_price1=pd.read_csv(\"smp_price.csv\",header=1,names=['육지(SMP)','제주(SMP)','SMP','BLMP'])\n",
    "smp_price2=smp_price1.sort_index(axis=0, ascending=True)\n",
    "smp_price3=smp_price2.set_index(keys=pd.period_range(start='2001-04',periods=smp_price2.shape[0],freq='M'))\n",
    "smp_price4=smp_price3['SMP']\n",
    "\n",
    "elec_supply1=pd.read_csv(\"elec_supply.csv\",names=[\"기간\",\"설비용량\",\"공급능력\",\"최대전력\",\"공급예비력\",\"공급예비율\",\"기준시간\"])\n",
    "elec_supply2=elec_supply1.sort_values(\"기간\", ascending=True)\n",
    "elec_supply3=elec_supply2[elec_supply2.기간!='2002/08']\n",
    "elec_supply4=elec_supply3.set_index(keys=pd.period_range(start='2003-01',periods=elec_supply3.shape[0],freq='M'))\n",
    "elec_supply5=elec_supply4[['설비용량','공급능력','최대전력','공급예비력','공급예비율']]\n",
    "\n",
    "fuel_cost1=pd.read_csv(\"fuel_cost.csv\",header=0,names=[\"기간\",\"원자력\",\"유연탄\",\"무연탄\",\"유류\",\"LNG\"])\n",
    "fuel_cost2=fuel_cost1.sort_values(\"기간\", ascending=True)\n",
    "fuel_cost3=fuel_cost2.set_index(keys=pd.period_range(start='2001-04',periods=fuel_cost2.shape[0],freq='M'))\n",
    "fuel_cost4=fuel_cost3[['유류','LNG']]\n",
    "fuel_cost4\n",
    "\n",
    "elec_data=pd.concat([smp_price4,elec_supply5,fuel_cost4],axis=1)['2003-01':'2016-12']\n",
    "elec_data['설비용량']=elec_data['설비용량'].str.replace(',', '') \n",
    "elec_data['공급능력']=elec_data['공급능력'].str.replace(',', '')\n",
    "elec_data['최대전력']=elec_data['공급능력'].str.replace(',', '')\n",
    "elec_data['공급예비력']=elec_data['공급예비력'].str.replace(',', '')\n",
    "elec_data=elec_data.astype(float)"
   ]
  },
  {
   "cell_type": "code",
   "execution_count": 3,
   "metadata": {},
   "outputs": [
    {
     "name": "stdout",
     "output_type": "stream",
     "text": [
      "                            OLS Regression Results                            \n",
      "==============================================================================\n",
      "Dep. Variable:                    SMP   R-squared:                       0.738\n",
      "Model:                            OLS   Adj. R-squared:                  0.737\n",
      "Method:                 Least Squares   F-statistic:                     470.9\n",
      "Date:                Sat, 15 Apr 2017   Prob (F-statistic):           1.81e-50\n",
      "Time:                        16:04:57   Log-Likelihood:                -908.12\n",
      "No. Observations:                 168   AIC:                             1818.\n",
      "Df Residuals:                     167   BIC:                             1821.\n",
      "Df Model:                           1                                         \n",
      "Covariance Type:            nonrobust                                         \n",
      "==============================================================================\n",
      "                 coef    std err          t      P>|t|      [95.0% Conf. Int.]\n",
      "------------------------------------------------------------------------------\n",
      "공급예비율          6.1347      0.283     21.700      0.000         5.577     6.693\n",
      "==============================================================================\n",
      "Omnibus:                        1.744   Durbin-Watson:                   0.681\n",
      "Prob(Omnibus):                  0.418   Jarque-Bera (JB):                1.426\n",
      "Skew:                           0.024   Prob(JB):                        0.490\n",
      "Kurtosis:                       2.551   Cond. No.                         1.00\n",
      "==============================================================================\n",
      "\n",
      "Warnings:\n",
      "[1] Standard Errors assume that the covariance matrix of the errors is correctly specified.\n"
     ]
    }
   ],
   "source": [
    "import statsmodels.api as sm\n",
    "from statsmodels.sandbox.regression.predstd import wls_prediction_std\n",
    "smp_supply_lm=sm.OLS(elec_data['SMP'],elec_data['공급예비율'])\n",
    "smp_supply_result=smp_supply_lm.fit()\n",
    "print(smp_supply_result.summary())"
   ]
  },
  {
   "cell_type": "code",
   "execution_count": null,
   "metadata": {
    "collapsed": true
   },
   "outputs": [],
   "source": [
    "이제 부터 KNN알고리즘으로 분류를 해보자."
   ]
  },
  {
   "cell_type": "code",
   "execution_count": 8,
   "metadata": {},
   "outputs": [
    {
     "data": {
      "text/plain": [
       "KNeighborsRegressor(algorithm='auto', leaf_size=30, metric='minkowski',\n",
       "          metric_params=None, n_jobs=1, n_neighbors=6, p=2,\n",
       "          weights='uniform')"
      ]
     },
     "execution_count": 8,
     "metadata": {},
     "output_type": "execute_result"
    }
   ],
   "source": [
    "from sklearn import neighbors\n",
    "import numpy as np \n",
    "knn = neighbors.KNeighborsRegressor(n_neighbors=6)\n",
    "knn.fit(X=elec_data[['유류','공급예비율']],y=elec_data['SMP'])\n",
    "knn.predict()"
   ]
  },
  {
   "cell_type": "code",
   "execution_count": null,
   "metadata": {
    "collapsed": true
   },
   "outputs": [],
   "source": []
  }
 ],
 "metadata": {
  "hide_input": false,
  "kernelspec": {
   "display_name": "Python 3",
   "language": "python",
   "name": "python3"
  },
  "language_info": {
   "codemirror_mode": {
    "name": "ipython",
    "version": 3
   },
   "file_extension": ".py",
   "mimetype": "text/x-python",
   "name": "python",
   "nbconvert_exporter": "python",
   "pygments_lexer": "ipython3",
   "version": "3.6.0"
  }
 },
 "nbformat": 4,
 "nbformat_minor": 2
}
