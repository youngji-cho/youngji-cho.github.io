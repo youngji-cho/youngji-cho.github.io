{
 "cells": [
  {
   "cell_type": "markdown",
   "metadata": {},
   "source": [
    "1. 일반적인 인공신경망 (Feed-forward neural network): 데이터를 입력하면 연산이 입력충에서 은닉충을 거쳐 출력까지 차근차근 진행됩니다. 이 과정에서 입력 데이터는 모든 노드를 한번 딱 지나간다. 시간을 무시하고 주언진 데이터만 가지고 판단한다. \n",
    "\n",
    "2. RNN은 은닉충은 context unit에서 과거의 데이터를 가져와서 입력을 받는다. 이것은 피드백 구조임. \n",
    "$$h_t =\\phi(Wx_t +Uh_{t-1})$$\n",
    "\n",
    "3. BPTT(Backpropation Through Time, 시간을 거슬러가는 backprop): 출력단에서 구한 오차를 신경망을 거슬러 가면서 가 계수를 업데이터느 하는 것이다. 각 계수가 출력단의 오차에 얼마나 기여하는지 계산하고, 이 값을 통해 계수를 얼마나 증가 혹은 감소시킬지 결정한다.   \n",
    "\n",
    "4. 그라디언트 안정화 문제: 그라디언트의 개념은 x-y평면에 직석을 그으면, 직선의 미분값은 정의에 따라 x의 작은 변화량에 따른 y의 변화량의 비율이 이다. 인공신경망은 기본적으로 함수들의 곱으로 이루어져 있기 때문에 그라디언트가 곱셈이 많을 수로 소실이 되고 이를 재조정 해줘야 하낟. \n",
    "\n",
    "5. LSTM(Long-Shortterm Memory Unit): 특정값을 망각하고, "
   ]
  },
  {
   "cell_type": "code",
   "execution_count": 10,
   "metadata": {},
   "outputs": [
    {
     "data": {
      "text/plain": [
       "array([  0.00000000e+00,   7.07106781e-01,   1.00000000e+00,\n",
       "         7.07106781e-01,   1.22464680e-16,  -7.07106781e-01,\n",
       "        -1.00000000e+00,  -7.07106781e-01,  -2.44929360e-16,\n",
       "         7.07106781e-01,   1.00000000e+00,   7.07106781e-01,\n",
       "         3.67394040e-16,  -7.07106781e-01,  -1.00000000e+00,\n",
       "        -7.07106781e-01,  -4.89858720e-16,   7.07106781e-01,\n",
       "         1.00000000e+00,   7.07106781e-01])"
      ]
     },
     "execution_count": 10,
     "metadata": {},
     "output_type": "execute_result"
    }
   ],
   "source": [
    "from keras.optimizers import SGD \n",
    "import numpy as np\n",
    "x = np.sin(2 * np.pi * 0.125 * np.arange(20))\n",
    "x"
   ]
  },
  {
   "cell_type": "code",
   "execution_count": 8,
   "metadata": {},
   "outputs": [
    {
     "ename": "SyntaxError",
     "evalue": "invalid syntax (<ipython-input-8-b5da88b2050c>, line 6)",
     "output_type": "error",
     "traceback": [
      "\u001b[0;36m  File \u001b[0;32m\"<ipython-input-8-b5da88b2050c>\"\u001b[0;36m, line \u001b[0;32m6\u001b[0m\n\u001b[0;31m    model.add(Activation('sigmoid'))\u001b[0m\n\u001b[0m        ^\u001b[0m\n\u001b[0;31mSyntaxError\u001b[0m\u001b[0;31m:\u001b[0m invalid syntax\n"
     ]
    }
   ],
   "source": [
    "from keras.models import Sequential \n",
    "from keras.layers import Dense, Activation \n",
    "\n",
    "model=Sequential()\n",
    "model.add(Dense(32, input_shape=( ))\n",
    "model.add(Activation('sigmoid'))\n",
    "\n"
   ]
  },
  {
   "cell_type": "code",
   "execution_count": null,
   "metadata": {
    "collapsed": true
   },
   "outputs": [],
   "source": []
  }
 ],
 "metadata": {
  "hide_input": false,
  "kernelspec": {
   "display_name": "Python 3",
   "language": "python",
   "name": "python3"
  },
  "language_info": {
   "codemirror_mode": {
    "name": "ipython",
    "version": 3
   },
   "file_extension": ".py",
   "mimetype": "text/x-python",
   "name": "python",
   "nbconvert_exporter": "python",
   "pygments_lexer": "ipython3",
   "version": "3.6.0"
  }
 },
 "nbformat": 4,
 "nbformat_minor": 2
}
