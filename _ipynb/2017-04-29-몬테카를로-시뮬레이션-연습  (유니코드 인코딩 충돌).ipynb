{
 "cells": [
  {
   "cell_type": "raw",
   "metadata": {},
   "source": [
    "---\n",
    "title: \"나이브 베이즈 분류 기본모형\"\n",
    "author: \"youngji\"\n",
    "date: '2017-04-29'\n",
    "---\n"
   ]
  },
  {
   "cell_type": "markdown",
   "metadata": {},
   "source": [
    "몬테카를로 시뮬레이션은 다양한 결과를 실험하기 위해서 존재한다. 특히 투자시 모든 리스크의 가능성을 파악하기 위해서 존재한다. \n",
    "단순히 선택을 해야 할까? 하지 말아야 할까?의 의사결정이 아니라, 의사결정을 함으로써 도출될 수 있는 다양한 결과들에 대해서 예상을 한다. \n",
    "특히 독립된 사건에서 현재 확률이 다음 사건 확률의 영향을 미칠 것이라는 \n"
   ]
  },
  {
   "cell_type": "code",
   "execution_count": 14,
   "metadata": {
    "collapsed": true,
    "hide_input": true
   },
   "outputs": [],
   "source": []
  }
 ],
 "metadata": {
  "hide_input": false,
  "kernelspec": {
   "display_name": "Python 3",
   "language": "python",
   "name": "python3"
  },
  "language_info": {
   "codemirror_mode": {
    "name": "ipython",
    "version": 3
   },
   "file_extension": ".py",
   "mimetype": "text/x-python",
   "name": "python",
   "nbconvert_exporter": "python",
   "pygments_lexer": "ipython3",
   "version": "3.6.0"
  }
 },
 "nbformat": 4,
 "nbformat_minor": 2
}
