{
 "cells": [
  {
   "cell_type": "markdown",
   "metadata": {},
   "source": [
    "# 푸아송과 감마분포 \n",
    "\n",
    "## 푸아송 분포 \n",
    "푸아송은 이산확률분포이다. 특정 시간t에 사건 x가 얼만큼 발생하는지 찾는데 쓰인다. \n",
    "$$ X_{(0,t)}\\ =\\ 특정시간\\ (0,t)내에\\ 발생한\\ 사건의\\ 수$$\n",
    "\n",
    "푸아송은 아래의 가정을 가진다. \n",
    "* $P[X_{t,t+\\Delta t}]= \\lambda\\Delta t + o(\\Delta t)$: 충분히 작은 시간 $\\Delta t$에서 사건이 일어날 확률은 관측시간 $\\Delta t$에 비례하는 양 $\\lambda \\Delta t$와 $ \\Delta t \\rightarrow 0$이면 0이 되는 양 $o(\\Delta t)$의 합으로 주어즌다. \n",
    "* $P[X_{t,t+\\Delta t} \\geq 2]= o(\\Delta t)$ : 충분히 작은 시간 $\\Delta t$에서 두 사건 이상 일어날 확률은 $ \\Delta t \\rightarrow 0$이면 0이다. \n",
    "* $P[X_{(s,t)}=K \\mid X_{u,v}=h]= P[X_{(s,t)}=K]$ : 중복되지 않은 시간내에 일어나는 사건들의 독립이다. \n",
    "\n",
    "위 가정을 통해서 확률질량함수는 아래와 같이 유도를 한다. 여기서 $\\lambda$는 시간당 특정한 사건의 발생횟수이고, t는 발생한 시간의 범위이다. \n",
    "\n",
    "$$f_{X_{(0,t)}}(x)= \\frac{(\\lambda t)^x e^{-\\lambda t}}{x!}  $$ \n",
    "\n",
    "예를 들어보자,어떤 회사가에 수신되는 e-mail의 수가 시간당 30건이라고 한다. 푸아송 분포로 아래 같은 확률은 예측한다고 가정해보자.\n",
    "\n",
    "1. 임의로 선택된 3분 동안 e-mail이 한번도 발신되지 않은 확률 \n",
    "2. 임의로 선택된 6분 동안 e-mail이 5건 이상 이루어질 확률 \n",
    "\n",
    "$\\lambda$값은 시간당 평균 발생하는 이메일 건수이므로 '30/60=0.5'이다. "
   ]
  },
  {
   "cell_type": "code",
   "execution_count": 37,
   "metadata": {},
   "outputs": [
    {
     "data": {
      "text/plain": [
       "{'1번 정답': 0.22313016014842982, '2번 정답': 0.18473675547622792}"
      ]
     },
     "execution_count": 37,
     "metadata": {},
     "output_type": "execute_result"
    }
   ],
   "source": [
    "from scipy.stats import poisson\n",
    "x1=poisson.pmf(k=0,mu=30/60*3)\n",
    "x2=1-(poisson.pmf(k=0,mu=30/60*6)+poisson.pmf(k=1,mu=30/60*6)+poisson.pmf(k=2,mu=30/60*6)+poisson.pmf(k=3,mu=30/60*6)+poisson.pmf(k=4,mu=30/60*6))\n",
    "{'1번 정답':x1,'2번 정답':x2}"
   ]
  },
  {
   "cell_type": "markdown",
   "metadata": {},
   "source": [
    "## 감마분포 \n",
    "\n",
    "감마 분포는 푸아송분포와는 별도의 분포이지만, 밀접한 연관을 같는다. 푸아송분포 분모의순열(Factorial)이 감마함수를 이루기 때문이다.  \n",
    "\n",
    "$$감마함수=\\ \\Gamma(n)=(n-1)!   $$ \n",
    "\n",
    "엄밀히 말하자면, 이러한 순열을 연속적인 실수공간에 이를 수식으로 표현하기 위해서 감마함수의 식이 도출되었다. \n",
    "\n",
    "$$\\Gamma(u)=\\int_{0}^{1}[-log(u)]^{x-1}du \\\\\n",
    "\\Gamma(z)= \\int_{0}^{\\infty}e^{-t}t^{x-1}dt$$ \n",
    "\n",
    "감마분포의 그래프는 아래와 같이 그릴 수 있다. "
   ]
  },
  {
   "cell_type": "code",
   "execution_count": 59,
   "metadata": {},
   "outputs": [
    {
     "data": {
      "image/png": "[encoded data removed]",
      "text/plain": [
       "<matplotlib.figure.Figure at 0x114b403c8>"
      ]
     },
     "metadata": {},
     "output_type": "display_data"
    }
   ],
   "source": [
    "from scipy.stats import gamma\n",
    "import matplotlib.pyplot as plt\n",
    "import numpy as np \n",
    "\n",
    "a1 = 1; x1 = np.linspace(gamma.ppf(0.01, a1),gamma.ppf(0.99, a1), 100)\n",
    "plt.plot(x1, gamma.pdf(x1, a1), 'r-',color='red',label='a=1')\n",
    "a2 = 2; x2 = np.linspace(gamma.ppf(0.01, a2),gamma.ppf(0.99, a2), 100)\n",
    "plt.plot(x, gamma.pdf(x, a2), 'r-',color='blue',label='a=2')\n",
    "a3 = 3; x3 = np.linspace(gamma.ppf(0.01, a3),gamma.ppf(0.99, a3), 100)\n",
    "plt.plot(x, gamma.pdf(x, a3),'r-',color='green', label='a=3')\n",
    "plt.legend()\n",
    "plt.show()"
   ]
  }
 ],
 "metadata": {
  "hide_input": false,
  "kernelspec": {
   "display_name": "Python 3",
   "language": "python",
   "name": "python3"
  },
  "language_info": {
   "codemirror_mode": {
    "name": "ipython",
    "version": 3
   },
   "file_extension": ".py",
   "mimetype": "text/x-python",
   "name": "python",
   "nbconvert_exporter": "python",
   "pygments_lexer": "ipython3",
   "version": "3.6.0"
  }
 },
 "nbformat": 4,
 "nbformat_minor": 2
}
