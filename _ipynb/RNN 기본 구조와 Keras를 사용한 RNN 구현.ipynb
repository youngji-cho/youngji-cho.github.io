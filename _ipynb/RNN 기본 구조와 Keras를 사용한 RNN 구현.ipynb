{
 "cells": [
  {
   "cell_type": "markdown",
   "metadata": {
    "school_cell_uuid": "64c20acca0b740abbf297fe5899ae59c"
   },
   "source": [
    "# RNN 기본 구조와 Keras를 사용한 RNN 구현"
   ]
  },
  {
   "cell_type": "markdown",
   "metadata": {
    "school_cell_uuid": "6d3fd010b4e044dc940e3ea59addeea6"
   },
   "source": [
    "신경망을 사용하여 문장(sentence)이나 시계열(time series) 데이터와 같은 순서열(sequence)를 예측하는 문제를 푸는 경우, 예측하고자 하는 값이 더 오랜 과거의 데이터에 의존하게 하려면 시퀀스를 나타내는 벡터의 크기를 증가시켜야 한다. 예를 들어 10,000개의 단어로 구성된 단어장을 사용하는 언어 모형에서 과거 100개 단어의 순서열에 대해 출력을 예측하려면 1,000,000 차원의 입력 벡터가 필요하다. \n",
    "\n",
    "RNN(Recurrent Neural Network)는 뉴런의 상태(state)를 저장하고 이를 다음 스텝에서의 입력으로 사용함으로써 긴 순서열에 대해서도 예측을 할 수 있는 신경망 구조이다. 여기에서는 RNN의 기본 구조와 Keras 파이썬 패키지에서 지원하는 RNN 구현 방법에 대해 알아본다."
   ]
  },
  {
   "cell_type": "markdown",
   "metadata": {
    "school_cell_uuid": "f8e38afb0ad842ffb7fc90970545845a"
   },
   "source": [
    "## RNN의 기본 구조"
   ]
  },
  {
   "cell_type": "markdown",
   "metadata": {
    "school_cell_uuid": "8781140dc9004a68a00c694ae7a8e07a"
   },
   "source": [
    "일반적인 feedforward 신경망 구조는 다음과 같이 출력 벡터 $y$가 입력 $x$ 벡터와 신경망 가중치 행렬 $U$의 곱에 activation 함수를 적용한 결과로 나타난다.\n",
    "\n",
    "$$ y = \\sigma ( U x ) $$\n",
    "\n",
    "이 식에서 $\\sigma$는 activation 함수를 뜻한다.\n",
    "\n",
    "\n",
    "하나의 은닉층(hidden layer)을 가지는 MLP(Multi-Layer Perceptron)의 경우에는 다음과 같이 표현할 수 있다.\n",
    "\n",
    "$$ h = \\sigma(U x) $$\n",
    "$$ o = \\sigma(V h) $$\n",
    "\n",
    "이 식에서 $h$는 은닉층 벡터, $o$은 출력 벡터, $U$는 입력으로부터 은닉층까지의 가중치 행렬, $V$는 은닉층으로부터 츨력까지의 가중치 행렬이다."
   ]
  },
  {
   "cell_type": "markdown",
   "metadata": {
    "school_cell_uuid": "35c4cf9ae7e7405b91484c09d77df81d"
   },
   "source": [
    "RNN에서는 출력 벡터 $o$ 이외에도 상태 벡터 $s$를 출력한다. 상태 벡터는 일종의 은닉층 벡터와 비슷하지만 입력 $x$ 뿐 아니라 바로 전단계의 상태 벡터 값에도 의존한다. 출력 벡터는 상태 벡터의 값에 의존한다.\n",
    "\n",
    "$$ s_t = \\sigma(Ux_t + Ws_{t-1}) $$\n",
    "$$ o_t = \\sigma(Vs_t) $$\n",
    "\n",
    "여기에서 첨자 $t$는 순서열의 순서를 나타낸다. RNN은 시간 스텝에 따라 연결해서 펼쳐놓으면 무한개의 은닉층을 가진 MLP와 유사한 효과가 있다. 그림으로 나타내면 다음과 같다."
   ]
  },
  {
   "cell_type": "markdown",
   "metadata": {
    "school_cell_uuid": "d99e17b09fdf438da7d2f5b5ce4a7828"
   },
   "source": [
    "<img src=\"http://d3kbpzbmcynnmx.cloudfront.net/wp-content/uploads/2015/09/rnn.jpg\" style=\"width: 80%;\">\n",
    "\n",
    "<small>이미지 출처: http://www.wildml.com/2015/09/recurrent-neural-networks-tutorial-part-1-introduction-to-rnns/</small>"
   ]
  },
  {
   "cell_type": "markdown",
   "metadata": {
    "school_cell_uuid": "b643fe00d6fe43b68a25ae10ac549390"
   },
   "source": [
    "다만 MLP와 달리 상태 벡터의 변환 행렬이 고정되어 있다."
   ]
  },
  {
   "cell_type": "markdown",
   "metadata": {
    "school_cell_uuid": "5d3b47b6eaac4f8ab854e62d55c3750a"
   },
   "source": [
    "## 순서열 예측"
   ]
  },
  {
   "cell_type": "markdown",
   "metadata": {
    "school_cell_uuid": "b367e163dd34450e9bc8cafcb05c02f0"
   },
   "source": [
    "RNN이 기존 신경망과 가장 다른 점은 순서열을 처리할 수 있다는 점이다. RNN에 입력 벡터 순서열 $x_1, x_2, \\ldots, x_n$ 을 차례대로 입력하면 상태 순서열 $s_1, s_2, \\ldots, s_n$이 내부적으로 생성되고 출력으로는 출력 순서열 $o_1, o_2, \\ldots, o_n$ 이 나온다.\n",
    "\n",
    "만약 원하는 결과가 출력 순서열 $o_1, o_2, \\ldots, o_n$ 이 target 순서열 $y_1, y_2, \\ldots, y_n$ 과 같아지는 것이라면 입력 순서열 길이와 출력 순서열 길이가 같은 특수한 경우의 sequnce-to-sequence (many-to-many) 예측 문제가 되고 순서열의 마지막 출력 $o_n$ 값이 $y_n$값과 같아지는 것만 목표라면 단순한 sequence to value (many-to-one) 문제가 된다."
   ]
  },
  {
   "cell_type": "markdown",
   "metadata": {
    "school_cell_uuid": "206683ff0df8452c8951531d3c248339"
   },
   "source": [
    "<img src=\"https://deeplearning4j.org/img/rnn_masking_1.png\" style=\"width: 100%;\">\n",
    "\n",
    "<small>이미지 출처: https://deeplearning4j.org/usingrnns</small>"
   ]
  },
  {
   "cell_type": "markdown",
   "metadata": {
    "school_cell_uuid": "3222632258df45c09b999a40163b48d6"
   },
   "source": [
    "## Back-Propagation Through Time (BPTT)"
   ]
  },
  {
   "cell_type": "markdown",
   "metadata": {
    "school_cell_uuid": "3f575ebdaaa24073b63e2a50d9d4b865"
   },
   "source": [
    "RNN은 시간에 따라 펼쳐놓으면 구조가 MLP와 유사하기 때문에 Back-Propagation 방법으로 gradient를 계산할 수 있다. 다만 실제로 여러개의 은닉층이 있는 것이 아니라 시간 차원에서 존재하기 때문에 Back-Propagation Through Time (BPTT) 방법이라고 한다."
   ]
  },
  {
   "cell_type": "markdown",
   "metadata": {
    "school_cell_uuid": "1fee92de553f462784be29508d1f546d"
   },
   "source": [
    "## Keras를 사용한 RNN  구현"
   ]
  },
  {
   "cell_type": "markdown",
   "metadata": {
    "school_cell_uuid": "501a0c086c7442f9beba9599373c3a38"
   },
   "source": [
    "파이썬용 신경망 패키지인 Keras를 사용해서 RNN을 구현해 보자. Keras 는 theano 나 tensorflow 를 사용하여 신경망을 구현해 줄 수 있도록 하는 고수준 라이브러리다. \n",
    "\n",
    "Keras 는 다양한 형태의 신경망 구조를 블럭 형태로 제공하고 있으며 SimpleRNN, LSTM, GRU 와 같은 RNN 구조도 제공한다. Keras에서 제공하는 RNN 에 대한 자세한 내용은 다음을 참조한다.\n",
    "\n",
    "* https://keras.io/layers/recurrent/"
   ]
  },
  {
   "cell_type": "markdown",
   "metadata": {
    "school_cell_uuid": "af45f324d6384833b73e5a77a063babe"
   },
   "source": [
    "## 시계열 예측 문제"
   ]
  },
  {
   "cell_type": "markdown",
   "metadata": {
    "school_cell_uuid": "a29b241dc45440f2b6ece266821e24a2"
   },
   "source": [
    "풀어야 할 문제는 다음과 같은 사인파형 시계열을 입력으로 다음 스텝의 출력을 예측하는 단순한 시계열 예측 문제이다."
   ]
  },
  {
   "cell_type": "code",
   "execution_count": null,
   "metadata": {
    "collapsed": true,
    "school_cell_uuid": "fbfe34f5604b4cfba3f1447f3ef5a002",
    "scrolled": true
   },
   "outputs": [],
   "source": [
    "import matplotlib.pyplot as plt \n",
    "import numpy as np \n",
    "\n",
    "s = np.sin(2 * np.pi * 0.125 * np.arange(20))\n",
    "plt.plot(s, 'ro-')\n",
    "plt.xlim(-0.5, 20.5)\n",
    "plt.ylim(-1.1, 1.1)\n",
    "plt.show()"
   ]
  },
  {
   "cell_type": "markdown",
   "metadata": {
    "school_cell_uuid": "64d3abcfec934772899b6012d838e4f3"
   },
   "source": [
    "이 시계열 자료에서 입력 순서열과 target 값을 만든다. 입력 순서열은 3 스텝 크기의 순서열을 사용하고 target으로는 그 다음 시간 스텝의 값을 사용한다. 즉, 3개의 순서열을 입력한 다음 마지막 출력값이 target과 일치하게 만드는 sequence-to-value (many-to-one) 문제를 풀어보도록 한다."
   ]
  },
  {
   "cell_type": "markdown",
   "metadata": {
    "school_cell_uuid": "8ac38fbda29b4fda85e674b1e84d92ad"
   },
   "source": [
    "Keras 에서 RNN 을 사용하려면 입력 데이터는 `(nb_samples, timesteps, input_dim)` 크기를 가지는 ndim=3인 3차원 텐서(tensor) 형태이어야 한다.\n",
    "\n",
    "* `nb_samples`: 자료의 수\n",
    "* `timesteps`: 순서열의 길이\n",
    "* `input_dim`: x 벡터의 크기"
   ]
  },
  {
   "cell_type": "markdown",
   "metadata": {
    "school_cell_uuid": "01cd08e36a6c4b25bfb509fc4fd30470"
   },
   "source": [
    "다음코드와 같이 원래의 시계열 벡터를 Toeplitz 행렬 형태로 변환하여 3차원 텐서를 만든다."
   ]
  },
  {
   "cell_type": "code",
   "execution_count": null,
   "metadata": {
    "collapsed": true,
    "school_cell_uuid": "ce4c1e3bef794b738f3ca66ad6cec756",
    "scrolled": false
   },
   "outputs": [],
   "source": [
    "fro m scipy.linalg import toeplitz\n",
    "S = np.fliplr(toeplitz(np.r_[s[-1], np.zeros(s.shape[0] - 2)], s[::-1]))\n",
    "S.shape"
   ]
  },
  {
   "cell_type": "code",
   "execution_count": 111,
   "metadata": {
    "school_cell_uuid": "e14941c7d3304296a5125ada296a3cb6"
   },
   "outputs": [
    {
     "data": {
      "text/plain": [
       "array([[[  0.00000000e+00],\n",
       "        [  7.07106781e-01],\n",
       "        [  1.00000000e+00]],\n",
       "\n",
       "       [[  7.07106781e-01],\n",
       "        [  1.00000000e+00],\n",
       "        [  7.07106781e-01]],\n",
       "\n",
       "       [[  1.00000000e+00],\n",
       "        [  7.07106781e-01],\n",
       "        [  1.22464680e-16]],\n",
       "\n",
       "       [[  7.07106781e-01],\n",
       "        [  1.22464680e-16],\n",
       "        [ -7.07106781e-01]],\n",
       "\n",
       "       [[  1.22464680e-16],\n",
       "        [ -7.07106781e-01],\n",
       "        [ -1.00000000e+00]],\n",
       "\n",
       "       [[ -7.07106781e-01],\n",
       "        [ -1.00000000e+00],\n",
       "        [ -7.07106781e-01]],\n",
       "\n",
       "       [[ -1.00000000e+00],\n",
       "        [ -7.07106781e-01],\n",
       "        [ -2.44929360e-16]],\n",
       "\n",
       "       [[ -7.07106781e-01],\n",
       "        [ -2.44929360e-16],\n",
       "        [  7.07106781e-01]],\n",
       "\n",
       "       [[ -2.44929360e-16],\n",
       "        [  7.07106781e-01],\n",
       "        [  1.00000000e+00]],\n",
       "\n",
       "       [[  7.07106781e-01],\n",
       "        [  1.00000000e+00],\n",
       "        [  7.07106781e-01]],\n",
       "\n",
       "       [[  1.00000000e+00],\n",
       "        [  7.07106781e-01],\n",
       "        [  3.67394040e-16]],\n",
       "\n",
       "       [[  7.07106781e-01],\n",
       "        [  3.67394040e-16],\n",
       "        [ -7.07106781e-01]],\n",
       "\n",
       "       [[  3.67394040e-16],\n",
       "        [ -7.07106781e-01],\n",
       "        [ -1.00000000e+00]],\n",
       "\n",
       "       [[ -7.07106781e-01],\n",
       "        [ -1.00000000e+00],\n",
       "        [ -7.07106781e-01]],\n",
       "\n",
       "       [[ -1.00000000e+00],\n",
       "        [ -7.07106781e-01],\n",
       "        [ -4.89858720e-16]],\n",
       "\n",
       "       [[ -7.07106781e-01],\n",
       "        [ -4.89858720e-16],\n",
       "        [  7.07106781e-01]],\n",
       "\n",
       "       [[ -4.89858720e-16],\n",
       "        [  7.07106781e-01],\n",
       "        [  1.00000000e+00]],\n",
       "\n",
       "       [[  7.07106781e-01],\n",
       "        [  1.00000000e+00],\n",
       "        [  7.07106781e-01]]])"
      ]
     },
     "execution_count": 111,
     "metadata": {},
     "output_type": "execute_result"
    }
   ],
   "source": [
    "X_train = S[:-1, :3, np.newaxis]\n",
    "Y_train = S[:-1, 3]\n",
    "X_train[0,0,0]  \n",
    "X_train \n",
    " "
   ]
  },
  {
   "cell_type": "code",
   "execution_count": null,
   "metadata": {
    "collapsed": true,
    "school_cell_uuid": "d0ba83b6534842739499eff9b41064ec",
    "scrolled": false
   },
   "outputs": [],
   "source": [
    "plt.subplot(212)\n",
    "plt.plot([0, 1, 2], X_train[0].flatten(), 'bo-', label=\"input sequence\")\n",
    "plt.plot([3], Y_train[0], 'ro', label=\"target\")\n",
    "plt.xlim(-0.5, 4.5)\n",
    "plt.ylim(-1.1, 1.1)\n",
    "plt.title(\"Firs t sample sequence\")\n",
    "plt.legend()\n",
    "plt.show()"
   ]
  },
  {
   "cell_type": "code",
   "execution_count": null,
   "metadata": {
    "collapsed": true
   },
   "outputs": [],
   "source": [
    "plt.subplot(212)\n",
    "plt.plot([1, 2, 3], X_train[1].flatten(), 'bo-', label=\"input sequence\")\n",
    "plt.plot([4], Y_train[1], 'ro', label=\"target\")\n",
    "plt.xlim(-0.5, 4.5)\n",
    "plt.ylim(-1.1, 1.1)\n",
    "plt.legend()\n",
    "plt.title(\"Second sample sequence\")\n",
    "plt.tight_layout()\n",
    "plt.show()"
   ]
  },
  {
   "cell_type": "markdown",
   "metadata": {
    "school_cell_uuid": "639a831a6c6d4ca5a655dab88bbf26fc"
   },
   "source": [
    "## Keras의 SimpleRNN 클래스"
   ]
  },
  {
   "cell_type": "markdown",
   "metadata": {
    "school_cell_uuid": "500b1bb516464e0c8dac545c35eb124d"
   },
   "source": [
    "Keras에서 신경망 모형은 다음과 같은 순서로 만든다.\n",
    "\n",
    "1. `Sequential` 클래스 객체인 모형을 생성한다.\n",
    "2. `add` 메서드로 다양한 레이어를 추가한다.\n",
    "3. `compile` 메서드로 목적함수 및 최적화 방법을 지정한다.\n",
    "4. `fit` 메서드로 가중치를 계산한다."
   ]
  },
  {
   "cell_type": "markdown",
   "metadata": {
    "school_cell_uuid": "799ff6314b2549c7a49cf860ff305751"
   },
   "source": [
    "우선 가장 단순한 신경망 구조인 `SimpleRNN` 클래스를 사용하는 방법은 다음 코드와 같다. \n",
    "\n",
    "여기에서는 `SimpleRNN` 클래스 객체로 10개의 뉴런을 가지는 RNN 층을 만든다. 첫번째 인수로는 뉴런의 크기, `input_dim` 인수로는 벡터의 크기, `input_length` 인수로는 순서열으 길이를 입력한다.\n",
    "\n",
    "그 다음으로 `SimpleRNN` 클래스 객체에서 나오는 10개의 출력값을 하나로 묶어 실수 값을 출력으로 만들기 위해 `Dense` 클래스 객체를 추가하였다.\n",
    "\n",
    "손실 함수로는 mean-squred-error를, 최적화 방법으로는 단순한 stochastic gradient descent 방법을 사용한다."
   ]
  },
  {
   "cell_type": "code",
   "execution_count": 124,
   "metadata": {
    "school_cell_uuid": "39cd096e59594094adb4393a2065ae9c"
   },
   "outputs": [
    {
     "data": {
      "text/plain": [
       "(array([[[  0.00000000e+00],\n",
       "         [  7.07106781e-01],\n",
       "         [  1.00000000e+00]],\n",
       " \n",
       "        [[  7.07106781e-01],\n",
       "         [  1.00000000e+00],\n",
       "         [  7.07106781e-01]],\n",
       " \n",
       "        [[  1.00000000e+00],\n",
       "         [  7.07106781e-01],\n",
       "         [  1.22464680e-16]],\n",
       " \n",
       "        [[  7.07106781e-01],\n",
       "         [  1.22464680e-16],\n",
       "         [ -7.07106781e-01]],\n",
       " \n",
       "        [[  1.22464680e-16],\n",
       "         [ -7.07106781e-01],\n",
       "         [ -1.00000000e+00]],\n",
       " \n",
       "        [[ -7.07106781e-01],\n",
       "         [ -1.00000000e+00],\n",
       "         [ -7.07106781e-01]],\n",
       " \n",
       "        [[ -1.00000000e+00],\n",
       "         [ -7.07106781e-01],\n",
       "         [ -2.44929360e-16]],\n",
       " \n",
       "        [[ -7.07106781e-01],\n",
       "         [ -2.44929360e-16],\n",
       "         [  7.07106781e-01]],\n",
       " \n",
       "        [[ -2.44929360e-16],\n",
       "         [  7.07106781e-01],\n",
       "         [  1.00000000e+00]],\n",
       " \n",
       "        [[  7.07106781e-01],\n",
       "         [  1.00000000e+00],\n",
       "         [  7.07106781e-01]],\n",
       " \n",
       "        [[  1.00000000e+00],\n",
       "         [  7.07106781e-01],\n",
       "         [  3.67394040e-16]],\n",
       " \n",
       "        [[  7.07106781e-01],\n",
       "         [  3.67394040e-16],\n",
       "         [ -7.07106781e-01]],\n",
       " \n",
       "        [[  3.67394040e-16],\n",
       "         [ -7.07106781e-01],\n",
       "         [ -1.00000000e+00]],\n",
       " \n",
       "        [[ -7.07106781e-01],\n",
       "         [ -1.00000000e+00],\n",
       "         [ -7.07106781e-01]],\n",
       " \n",
       "        [[ -1.00000000e+00],\n",
       "         [ -7.07106781e-01],\n",
       "         [ -4.89858720e-16]],\n",
       " \n",
       "        [[ -7.07106781e-01],\n",
       "         [ -4.89858720e-16],\n",
       "         [  7.07106781e-01]],\n",
       " \n",
       "        [[ -4.89858720e-16],\n",
       "         [  7.07106781e-01],\n",
       "         [  1.00000000e+00]],\n",
       " \n",
       "        [[  7.07106781e-01],\n",
       "         [  1.00000000e+00],\n",
       "         [  7.07106781e-01]]]), array([[-0.72352242],\n",
       "        [-0.42007798],\n",
       "        [ 0.12323613],\n",
       "        [ 0.65265828],\n",
       "        [ 0.72352242],\n",
       "        [ 0.42007798],\n",
       "        [-0.12323613],\n",
       "        [-0.65265828],\n",
       "        [-0.72352242],\n",
       "        [-0.42007798],\n",
       "        [ 0.12323613],\n",
       "        [ 0.65265828],\n",
       "        [ 0.72352242],\n",
       "        [ 0.42007798],\n",
       "        [-0.12323613],\n",
       "        [-0.65265828],\n",
       "        [-0.72352242],\n",
       "        [-0.42007798]], dtype=float32))"
      ]
     },
     "execution_count": 124,
     "metadata": {},
     "output_type": "execute_result"
    }
   ],
   "source": [
    "from keras.models import Sequential\n",
    "from keras.layers import SimpleRNN, Dense\n",
    "np.random.seed(0)\n",
    "model = Sequential()\n",
    "model.add(SimpleRNN(10, input_shape=(3, 1)))\n",
    "model.add(Dense(1))\n",
    "model.compile(loss='mse', optimizer='sgd')\n",
    "\n",
    "X_train"
   ]
  },
  {
   "cell_type": "code",
   "execution_count": 126,
   "metadata": {},
   "outputs": [
    {
     "data": {
      "image/png": "[encoded data removed]",
      "text/plain": [
       "<matplotlib.figure.Figure at 0x1271e2e48>"
      ]
     },
     "metadata": {},
     "output_type": "display_data"
    }
   ],
   "source": [
    "plt.plot(model.predict(X_train), 'bs-', label=\"output\")\n",
    "plt.plot(X_train[:,:,0], label=\"output\")\n",
    "plt.show()"
   ]
  },
  {
   "cell_type": "markdown",
   "metadata": {
    "school_cell_uuid": "94fe4450329845fab23648dac07f92c6"
   },
   "source": [
    "일단 학습을 시키기 이전에 나오는 출력을 살펴보자. "
   ]
  },
  {
   "cell_type": "code",
   "execution_count": null,
   "metadata": {
    "collapsed": true
   },
   "outputs": [],
   "source": [
    "X_train.shape"
   ]
  },
  {
   "cell_type": "code",
   "execution_count": 104,
   "metadata": {
    "school_cell_uuid": "eb27002a6a91413db9961317e35b6f4a"
   },
   "outputs": [
    {
     "data": {
      "image/png": "[encoded data removed]",
      "text/plain": [
       "<matplotlib.figure.Figure at 0x126acb5c0>"
      ]
     },
     "metadata": {},
     "output_type": "display_data"
    }
   ],
   "source": [
    "plt.plot(Y_train, 'ro-', label=\"target\")\n",
    "plt.plot(model.predict(X_train), 'bs-', label=\"output\")\n",
    "plt.xlim(-0.5, 20.5)\n",
    "plt.ylim(-1.1, 1.1)\n",
    "plt.legend()\n",
    "plt.title(\"Before training\")\n",
    "plt.show()"
   ]
  },
  {
   "cell_type": "markdown",
   "metadata": {
    "school_cell_uuid": "04221fadb9464c7a927c149a6ee34373"
   },
   "source": [
    "`fit` 메서드로 학습을 한다. "
   ]
  },
  {
   "cell_type": "code",
   "execution_count": null,
   "metadata": {
    "collapsed": true,
    "school_cell_uuid": "ffe1edf3547a41a7ae1ce408fc0d7ea7",
    "scrolled": false
   },
   "outputs": [],
   "source": [
    "history = model.fit(X_train, Y_train, epochs=100, verbose=0)"
   ]
  },
  {
   "cell_type": "code",
   "execution_count": null,
   "metadata": {
    "collapsed": true,
    "school_cell_uuid": "0700c0ccf86245a88ee60aa8d9af88ef",
    "scrolled": true
   },
   "outputs": [],
   "source": [
    "plt.plot(history.history[\"loss\"])\n",
    "plt.title(\"Loss\")\n",
    "plt.show() "
   ]
  },
  {
   "cell_type": "markdown",
   "metadata": {
    "school_cell_uuid": "33d7c099a7e54ce3bc2f293fae5b595a"
   },
   "source": [
    "학습을 마친 후의 출력은 다음과 같다."
   ]
  },
  {
   "cell_type": "code",
   "execution_count": null,
   "metadata": {
    "collapsed": true,
    "school_cell_uuid": "fe84f3c74a1f4693b6465795d1d8f4d0"
   },
   "outputs": [],
   "source": [
    "plt.plot(Y_train, 'ro-', label=\"target\")\n",
    "plt.plot(model.predict(X_train[:,:,:]), 'bs-', label=\"output\")\n",
    "plt.xlim(-0.5, 20.5)\n",
    "plt.ylim(-1.1, 1.1)\n",
    "plt.legend()\n",
    "plt.title(\"After training\")\n",
    "plt.show()"
   ]
  },
  {
   "cell_type": "markdown",
   "metadata": {
    "school_cell_uuid": "ddedbf893e85464db657ebf11dd1d31c"
   },
   "source": [
    "`SimpleRNN` 클래스 생성시 `return_sequences` 인수를 `True`로 하면 출력 순서열 중 마지막 값만 출력하는 것이 아니라 전체 순서열을 3차원 텐서 형태로 출력하므로 sequence-to-sequence 문제로 풀 수 있다. 다만 입력 순서열과 출력 순서열의 크기는 같아야 한다.\n",
    "\n",
    "다만 이 경우에는 다음에 오는 `Dense` 클래스 객체를 `TimeDistributed` wrapper를 사용하여 3차원 텐서 입력을 받을 수 있게 확장해 주어야 한다."
   ]
  },
  {
   "cell_type": "code",
   "execution_count": null,
   "metadata": {
    "collapsed": true,
    "school_cell_uuid": "d06c75c2e4194bf1bcdc398b44d2d12c",
    "scrolled": false
   },
   "outputs": [],
   "source": [
    "from keras.layers import TimeDistributed\n",
    "\n",
    "model2 = Sequential()\n",
    "model2.add(SimpleRNN(20, input_dim=1, input_length=3, return_sequences=True))\n",
    "model2.add(TimeDistributed(Dense(1)))  \n",
    "model2.compile(loss='mse', optimizer='sgd')"
   ]
  },
  {
   "cell_type": "markdown",
   "metadata": {
    "school_cell_uuid": "f1627b90be1343cc9f96e00b1da2856b"
   },
   "source": [
    "이 번에는 출력값도 3개짜리 순서열로 한다."
   ]
  },
  {
   "cell_type": "code",
   "execution_count": null,
   "metadata": {
    "collapsed": true,
    "school_cell_uuid": "492c2b247d4e41988f65891dbc0400f8"
   },
   "outputs": [],
   "source": [
    "X_train2 = S[:-3, 0:3][:, :, np.newaxis]\n",
    "Y_train2 = S[:-3, 3:6][:, :, np.newaxis]\n",
    "X_train2.shape, Y_train2.shape"
   ]
  },
  {
   "cell_type": "code",
   "execution_count": null,
   "metadata": {
    "collapsed": true,
    "school_cell_uuid": "7b346778d1904b1388cf8b199cc4064a"
   },
   "outputs": [],
   "source": [
    "X_train2[:2]"
   ]
  },
  {
   "cell_type": "code",
   "execution_count": null,
   "metadata": {
    "collapsed": true,
    "school_cell_uuid": "009ba14851f34504971156bb0a3f6f52"
   },
   "outputs": [],
   "source": [
    "Y_train2[:2]"
   ]
  },
  {
   "cell_type": "code",
   "execution_count": null,
   "metadata": {
    "collapsed": true,
    "school_cell_uuid": "01e808b3dfaa4e339fb5ad8f820b0d09"
   },
   "outputs": [],
   "source": [
    "plt.subplot(211)\n",
    "plt.plot([0, 1, 2], X_train2[0].flatten(),   'bo-', label=\"input sequence\")\n",
    "plt.plot([3, 4, 5], Y_train2[0].flatten(), 'ro-', label=\"target sequence\")\n",
    "plt.xlim(-0.5, 6.5)\n",
    "plt.ylim(-1.1, 1.1)\n",
    "plt.legend()\n",
    "plt.title(\"First sample sequence\")\n",
    "plt.subplot(212)\n",
    "plt.plot([1, 2, 3], X_train2[1].flatten(), 'bo-', label=\"input sequence\")\n",
    "plt.plot([4, 5, 6], Y_train2[1].flatten(), 'ro-', label=\"target sequence\")\n",
    "plt.xlim(-0.5, 6.5)\n",
    "plt.ylim(-1.1, 1.1)\n",
    "plt.legend()\n",
    "plt.title(\"Second sample sequence\")\n",
    "plt.tight_layout()\n",
    "plt.show()"
   ]
  },
  {
   "cell_type": "code",
   "execution_count": null,
   "metadata": {
    "collapsed": true,
    "school_cell_uuid": "56c4e18fe58a48458093145f2cabdc32",
    "scrolled": true
   },
   "outputs": [],
   "source": [
    "history2 = model2.fit(X_train2, Y_train2, nb_epoch=100, verbose=0)"
   ]
  },
  {
   "cell_type": "code",
   "execution_count": null,
   "metadata": {
    "collapsed": true,
    "school_cell_uuid": "e6cc0b9dd2de40e38c5b590640b46b34"
   },
   "outputs": [],
   "source": [
    "plt.plot(history2.history[\"loss\"])\n",
    "plt.title(\"Loss\")\n",
    "plt.show()"
   ]
  },
  {
   "cell_type": "markdown",
   "metadata": {
    "school_cell_uuid": "17c464d441f04b25b47dd3317bcdb323"
   },
   "source": [
    "학습 결과는 다음과 같다."
   ]
  },
  {
   "cell_type": "code",
   "execution_count": null,
   "metadata": {
    "collapsed": true,
    "school_cell_uuid": "209e483140b9449da900c13a74b2f89c"
   },
   "outputs": [],
   "source": [
    "plt.subplot(211)\n",
    "plt.plot([1, 2, 3], X_train2[1].flatten(), 'bo-', label=\"input sequence\")\n",
    "plt.plot([4, 5, 6], Y_train2[1].flatten(), 'ro-', label=\"target sequence\")\n",
    "plt.plot([4, 5, 6], model2.predict(X_train2[1:2,:,:]).flatten(), 'gs-', label=\"output sequence\")\n",
    "plt.xlim(-0.5, 7.5)\n",
    "plt.ylim(-1.1, 1.1)\n",
    "plt.legend()\n",
    "plt.title(\"Second sample sequence\")\n",
    "plt.subplot(212)\n",
    "plt.plot([2, 3, 4], X_train2[2].flatten(), 'bo-', label=\"input sequence\")\n",
    "plt.plot([5, 6, 7], Y_train2[2].flatten(), 'ro-', label=\"target sequence\")\n",
    "plt.plot([5, 6, 7], model2.predict(X_train2[2:3,:,:]).flatten(), 'gs-', label=\"output sequence\")\n",
    "plt.xlim(-0.5, 7.5)\n",
    "plt.ylim(-1.1, 1.1)\n",
    "plt.legend()\n",
    "plt.title(\"Third sample sequence\")\n",
    "plt.tight_layout()\n",
    "plt.show()"
   ]
  },
  {
   "cell_type": "code",
   "execution_count": null,
   "metadata": {
    "collapsed": true
   },
   "outputs": [],
   "source": []
  }
 ],
 "metadata": {
  "anaconda-cloud": {},
  "hide_input": false,
  "kernelspec": {
   "display_name": "Python 3",
   "language": "python",
   "name": "python3"
  },
  "language_info": {
   "codemirror_mode": {
    "name": "ipython",
    "version": 3
   },
   "file_extension": ".py",
   "mimetype": "text/x-python",
   "name": "python",
   "nbconvert_exporter": "python",
   "pygments_lexer": "ipython3",
   "version": "3.6.0"
  }
 },
 "nbformat": 4,
 "nbformat_minor": 1
}
